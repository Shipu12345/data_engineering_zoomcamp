{
 "cells": [
  {
   "cell_type": "code",
   "execution_count": null,
   "metadata": {},
   "outputs": [
    {
     "ename": "",
     "evalue": "",
     "output_type": "error",
     "traceback": [
      "\u001b[1;31mFailed to start the Kernel. \n",
      "\u001b[1;31mJupyter server crashed. Unable to connect. \n",
      "\u001b[1;31mError code from Jupyter: 1\n",
      "\u001b[1;31m/home/shipu/.local/lib/python3.10/site-packages/traitlets/traitlets.py:2548: FutureWarning: Supporting extra quotes around strings is deprecated in traitlets 5.0. You can use '/home/shipu/Documents/data_engineering_zoomcamp/docker_sql' instead of '\"/home/shipu/Documents/data_engineering_zoomcamp/docker_sql\"' if you require traitlets >=5.\n",
      "\u001b[1;31m  warn(\n",
      "\u001b[1;31m\n",
      "\u001b[1;31m[I 08:03:05.250 NotebookApp] The port 8888 is already in use, trying another port.\n",
      "\u001b[1;31m\n",
      "\u001b[1;31mTraceback (most recent call last):\n",
      "\u001b[1;31m  File \"/usr/bin/jupyter-notebook\", line 8, in <module>\n",
      "\u001b[1;31m    sys.exit(main())\n",
      "\u001b[1;31m  File \"/home/shipu/.local/lib/python3.10/site-packages/jupyter_core/application.py\", line 277, in launch_instance\n",
      "\u001b[1;31m\n",
      "\u001b[1;31m    return super().launch_instance(argv=argv, **kwargs)\n",
      "\u001b[1;31m  File \"/home/shipu/.local/lib/python3.10/site-packages/traitlets/config/application.py\", line 1043, in launch_instance\n",
      "\u001b[1;31m\n",
      "\u001b[1;31m    app.start()\n",
      "\u001b[1;31m  File \"/home/shipu/.local/lib/python3.10/site-packages/notebook/notebookapp.py\", line 2320, in start\n",
      "\u001b[1;31m\n",
      "\u001b[1;31m    success = self._bind_http_server()\n",
      "\u001b[1;31m  File \"/home/shipu/.local/lib/python3.10/site-packages/notebook/notebookapp.py\", line 1795, in _bind_http_server\n",
      "\u001b[1;31m\n",
      "\u001b[1;31m    return self._bind_http_server_unix() if self.sock else self._bind_http_server_tcp()\n",
      "\u001b[1;31m  File \"/home/shipu/.local/lib/python3.10/site-packages/notebook/notebookapp.py\", line 1821, in _bind_http_server_tcp\n",
      "\u001b[1;31m\n",
      "\u001b[1;31m    self.http_server.listen(port, self.ip)\n",
      "\u001b[1;31m  File \"/home/shipu/.local/lib/python3.10/site-packages/tornado/tcpserver.py\", line 183, in listen\n",
      "\u001b[1;31m\n",
      "\u001b[1;31m    sockets = bind_sockets(\n",
      "\u001b[1;31m  File \"/home/shipu/.local/lib/python3.10/site-packages/tornado/netutil.py\", line 162, in bind_sockets\n",
      "\u001b[1;31m    sock.bind(sockaddr)\n",
      "\u001b[1;31mOSError: [Errno 99] Cannot assign requested address. \n",
      "\u001b[1;31mView Jupyter <a href='command:jupyter.viewOutput'>log</a> for further details."
     ]
    }
   ],
   "source": [
    "import pandas as pd"
   ]
  },
  {
   "cell_type": "code",
   "execution_count": null,
   "metadata": {},
   "outputs": [],
   "source": []
  }
 ],
 "metadata": {
  "kernelspec": {
   "display_name": "Python 3",
   "language": "python",
   "name": "python3"
  },
  "language_info": {
   "name": "python",
   "version": "3.10.9"
  },
  "orig_nbformat": 4,
  "vscode": {
   "interpreter": {
    "hash": "767d51c1340bd893661ea55ea3124f6de3c7a262a8b4abca0554b478b1e2ff90"
   }
  }
 },
 "nbformat": 4,
 "nbformat_minor": 2
}
